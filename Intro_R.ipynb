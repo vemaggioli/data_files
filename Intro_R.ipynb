{
  "nbformat": 4,
  "nbformat_minor": 0,
  "metadata": {
    "colab": {
      "provenance": [],
      "authorship_tag": "ABX9TyNteWtVsQp5QuUU/exbfrqX",
      "include_colab_link": true
    },
    "kernelspec": {
      "name": "ir",
      "display_name": "R"
    },
    "language_info": {
      "name": "R"
    }
  },
  "cells": [
    {
      "cell_type": "markdown",
      "metadata": {
        "id": "view-in-github",
        "colab_type": "text"
      },
      "source": [
        "<a href=\"https://colab.research.google.com/github/vemaggioli/data_files/blob/main/Intro_R.ipynb\" target=\"_parent\"><img src=\"https://colab.research.google.com/assets/colab-badge.svg\" alt=\"Open In Colab\"/></a>"
      ]
    },
    {
      "cell_type": "code",
      "source": [
        "#Intro to R practice\n",
        "#Variable declaration\n",
        "x <- 123\n",
        "x"
      ],
      "metadata": {
        "colab": {
          "base_uri": "https://localhost:8080/",
          "height": 34
        },
        "id": "R2u7Ptgbb05Z",
        "outputId": "b1a7cc66-d655-4deb-ee85-0c5ac1f4ced2"
      },
      "execution_count": 1,
      "outputs": [
        {
          "output_type": "display_data",
          "data": {
            "text/html": [
              "123"
            ],
            "text/markdown": "123",
            "text/latex": "123",
            "text/plain": [
              "[1] 123"
            ]
          },
          "metadata": {}
        }
      ]
    },
    {
      "cell_type": "code",
      "source": [
        "#Creating a list\n",
        "number_list = c(5, 6, 7, 8, 9, 10)\n",
        "number_list"
      ],
      "metadata": {
        "colab": {
          "base_uri": "https://localhost:8080/",
          "height": 34
        },
        "id": "Ap7jj8qfcd7y",
        "outputId": "09d28608-fa59-4a9b-944b-a8cd115576b5"
      },
      "execution_count": 2,
      "outputs": [
        {
          "output_type": "display_data",
          "data": {
            "text/html": [
              "<style>\n",
              ".list-inline {list-style: none; margin:0; padding: 0}\n",
              ".list-inline>li {display: inline-block}\n",
              ".list-inline>li:not(:last-child)::after {content: \"\\00b7\"; padding: 0 .5ex}\n",
              "</style>\n",
              "<ol class=list-inline><li>5</li><li>6</li><li>7</li><li>8</li><li>9</li><li>10</li></ol>\n"
            ],
            "text/markdown": "1. 5\n2. 6\n3. 7\n4. 8\n5. 9\n6. 10\n\n\n",
            "text/latex": "\\begin{enumerate*}\n\\item 5\n\\item 6\n\\item 7\n\\item 8\n\\item 9\n\\item 10\n\\end{enumerate*}\n",
            "text/plain": [
              "[1]  5  6  7  8  9 10"
            ]
          },
          "metadata": {}
        }
      ]
    },
    {
      "cell_type": "code",
      "source": [
        "#Select the third element of a list.\n",
        "number_list[3]"
      ],
      "metadata": {
        "colab": {
          "base_uri": "https://localhost:8080/",
          "height": 34
        },
        "id": "LgE8YzyfcvDB",
        "outputId": "39b5eca5-0955-4d6c-fd00-011e0e3dc0a8"
      },
      "execution_count": 3,
      "outputs": [
        {
          "output_type": "display_data",
          "data": {
            "text/html": [
              "7"
            ],
            "text/markdown": "7",
            "text/latex": "7",
            "text/plain": [
              "[1] 7"
            ]
          },
          "metadata": {}
        }
      ]
    },
    {
      "cell_type": "code",
      "source": [
        "#Add all the elements from the list.\n",
        "sum(number_list)"
      ],
      "metadata": {
        "colab": {
          "base_uri": "https://localhost:8080/",
          "height": 34
        },
        "id": "300nFu1odCfK",
        "outputId": "b855b781-ca41-4696-a0cc-bf19ad18d3a7"
      },
      "execution_count": 4,
      "outputs": [
        {
          "output_type": "display_data",
          "data": {
            "text/html": [
              "45"
            ],
            "text/markdown": "45",
            "text/latex": "45",
            "text/plain": [
              "[1] 45"
            ]
          },
          "metadata": {}
        }
      ]
    },
    {
      "cell_type": "code",
      "source": [
        "#Calculate the mean value of your list.\n",
        "mean(number_list)"
      ],
      "metadata": {
        "colab": {
          "base_uri": "https://localhost:8080/",
          "height": 34
        },
        "id": "hvBw_EfJdMrx",
        "outputId": "d6ac2757-b61f-4e0f-cbad-c0884b4d64d2"
      },
      "execution_count": 5,
      "outputs": [
        {
          "output_type": "display_data",
          "data": {
            "text/html": [
              "7.5"
            ],
            "text/markdown": "7.5",
            "text/latex": "7.5",
            "text/plain": [
              "[1] 7.5"
            ]
          },
          "metadata": {}
        }
      ]
    },
    {
      "cell_type": "code",
      "source": [
        "#Generate a dataframe named \"df\".\n",
        "patient_id = c(1, 2, 3, 4, 5, 6)\n",
        "weight = c(62, 76, 73, 69, 62, 72)\n",
        "height = c(1.88, 1.79, 1.60, 1.68, 1.80, 1.71)\n",
        "df = data.frame (patient_id, weight, height)\n",
        "df"
      ],
      "metadata": {
        "colab": {
          "base_uri": "https://localhost:8080/",
          "height": 286
        },
        "id": "1KdguS6VdUQB",
        "outputId": "d42fffc5-eff1-4975-e1ea-761b34d5ef88"
      },
      "execution_count": 7,
      "outputs": [
        {
          "output_type": "display_data",
          "data": {
            "text/html": [
              "<table class=\"dataframe\">\n",
              "<caption>A data.frame: 6 × 3</caption>\n",
              "<thead>\n",
              "\t<tr><th scope=col>patient_id</th><th scope=col>weight</th><th scope=col>height</th></tr>\n",
              "\t<tr><th scope=col>&lt;dbl&gt;</th><th scope=col>&lt;dbl&gt;</th><th scope=col>&lt;dbl&gt;</th></tr>\n",
              "</thead>\n",
              "<tbody>\n",
              "\t<tr><td>1</td><td>62</td><td>1.88</td></tr>\n",
              "\t<tr><td>2</td><td>76</td><td>1.79</td></tr>\n",
              "\t<tr><td>3</td><td>73</td><td>1.60</td></tr>\n",
              "\t<tr><td>4</td><td>69</td><td>1.68</td></tr>\n",
              "\t<tr><td>5</td><td>62</td><td>1.80</td></tr>\n",
              "\t<tr><td>6</td><td>72</td><td>1.71</td></tr>\n",
              "</tbody>\n",
              "</table>\n"
            ],
            "text/markdown": "\nA data.frame: 6 × 3\n\n| patient_id &lt;dbl&gt; | weight &lt;dbl&gt; | height &lt;dbl&gt; |\n|---|---|---|\n| 1 | 62 | 1.88 |\n| 2 | 76 | 1.79 |\n| 3 | 73 | 1.60 |\n| 4 | 69 | 1.68 |\n| 5 | 62 | 1.80 |\n| 6 | 72 | 1.71 |\n\n",
            "text/latex": "A data.frame: 6 × 3\n\\begin{tabular}{lll}\n patient\\_id & weight & height\\\\\n <dbl> & <dbl> & <dbl>\\\\\n\\hline\n\t 1 & 62 & 1.88\\\\\n\t 2 & 76 & 1.79\\\\\n\t 3 & 73 & 1.60\\\\\n\t 4 & 69 & 1.68\\\\\n\t 5 & 62 & 1.80\\\\\n\t 6 & 72 & 1.71\\\\\n\\end{tabular}\n",
            "text/plain": [
              "  patient_id weight height\n",
              "1 1          62     1.88  \n",
              "2 2          76     1.79  \n",
              "3 3          73     1.60  \n",
              "4 4          69     1.68  \n",
              "5 5          62     1.80  \n",
              "6 6          72     1.71  "
            ]
          },
          "metadata": {}
        }
      ]
    },
    {
      "cell_type": "code",
      "source": [
        "#Select the weight column of the dataframe and calculate the mean weight for all patients.\n",
        "df$weight\n",
        "mean(df$weight)"
      ],
      "metadata": {
        "colab": {
          "base_uri": "https://localhost:8080/",
          "height": 52
        },
        "id": "6CoPa_r3d40C",
        "outputId": "22ae788b-747a-4f35-dd9b-0050a1c76d13"
      },
      "execution_count": 9,
      "outputs": [
        {
          "output_type": "display_data",
          "data": {
            "text/html": [
              "<style>\n",
              ".list-inline {list-style: none; margin:0; padding: 0}\n",
              ".list-inline>li {display: inline-block}\n",
              ".list-inline>li:not(:last-child)::after {content: \"\\00b7\"; padding: 0 .5ex}\n",
              "</style>\n",
              "<ol class=list-inline><li>62</li><li>76</li><li>73</li><li>69</li><li>62</li><li>72</li></ol>\n"
            ],
            "text/markdown": "1. 62\n2. 76\n3. 73\n4. 69\n5. 62\n6. 72\n\n\n",
            "text/latex": "\\begin{enumerate*}\n\\item 62\n\\item 76\n\\item 73\n\\item 69\n\\item 62\n\\item 72\n\\end{enumerate*}\n",
            "text/plain": [
              "[1] 62 76 73 69 62 72"
            ]
          },
          "metadata": {}
        },
        {
          "output_type": "display_data",
          "data": {
            "text/html": [
              "69"
            ],
            "text/markdown": "69",
            "text/latex": "69",
            "text/plain": [
              "[1] 69"
            ]
          },
          "metadata": {}
        }
      ]
    },
    {
      "cell_type": "code",
      "source": [
        "#Show the minimun height, the maximum height, and the mean height for the patients.\n",
        "min(df$height)\n",
        "max(df$height)\n",
        "mean(df$height)"
      ],
      "metadata": {
        "colab": {
          "base_uri": "https://localhost:8080/",
          "height": 69
        },
        "id": "Fu_D-bGyeWk7",
        "outputId": "09000f85-8e44-4fe2-d285-96f2388b1646"
      },
      "execution_count": 10,
      "outputs": [
        {
          "output_type": "display_data",
          "data": {
            "text/html": [
              "1.6"
            ],
            "text/markdown": "1.6",
            "text/latex": "1.6",
            "text/plain": [
              "[1] 1.6"
            ]
          },
          "metadata": {}
        },
        {
          "output_type": "display_data",
          "data": {
            "text/html": [
              "1.88"
            ],
            "text/markdown": "1.88",
            "text/latex": "1.88",
            "text/plain": [
              "[1] 1.88"
            ]
          },
          "metadata": {}
        },
        {
          "output_type": "display_data",
          "data": {
            "text/html": [
              "1.74333333333333"
            ],
            "text/markdown": "1.74333333333333",
            "text/latex": "1.74333333333333",
            "text/plain": [
              "[1] 1.743333"
            ]
          },
          "metadata": {}
        }
      ]
    },
    {
      "cell_type": "code",
      "source": [
        "#Calculate the patients' BMI using the formula BMI=Weight(Kg)/Height (m²).\n",
        "df$weight/(df$height^2)"
      ],
      "metadata": {
        "colab": {
          "base_uri": "https://localhost:8080/",
          "height": 34
        },
        "id": "YHwhmPhcepxD",
        "outputId": "93a26929-ae6d-4f82-bec8-9a46fdd360bd"
      },
      "execution_count": 12,
      "outputs": [
        {
          "output_type": "display_data",
          "data": {
            "text/html": [
              "<style>\n",
              ".list-inline {list-style: none; margin:0; padding: 0}\n",
              ".list-inline>li {display: inline-block}\n",
              ".list-inline>li:not(:last-child)::after {content: \"\\00b7\"; padding: 0 .5ex}\n",
              "</style>\n",
              "<ol class=list-inline><li>17.5418741511996</li><li>23.7196092506476</li><li>28.515625</li><li>24.4472789115646</li><li>19.1358024691358</li><li>24.6229609110496</li></ol>\n"
            ],
            "text/markdown": "1. 17.5418741511996\n2. 23.7196092506476\n3. 28.515625\n4. 24.4472789115646\n5. 19.1358024691358\n6. 24.6229609110496\n\n\n",
            "text/latex": "\\begin{enumerate*}\n\\item 17.5418741511996\n\\item 23.7196092506476\n\\item 28.515625\n\\item 24.4472789115646\n\\item 19.1358024691358\n\\item 24.6229609110496\n\\end{enumerate*}\n",
            "text/plain": [
              "[1] 17.54187 23.71961 28.51562 24.44728 19.13580 24.62296"
            ]
          },
          "metadata": {}
        }
      ]
    },
    {
      "cell_type": "code",
      "source": [
        "#Create a new column in the dataframe to save the calculated BMI.\n",
        "df$bmi = df$weight/(df$height^2)\n",
        "df"
      ],
      "metadata": {
        "colab": {
          "base_uri": "https://localhost:8080/",
          "height": 286
        },
        "id": "2XzX9A6hfjK7",
        "outputId": "40b1be65-d5e6-4642-c7cf-49c4460d819e"
      },
      "execution_count": 16,
      "outputs": [
        {
          "output_type": "display_data",
          "data": {
            "text/html": [
              "<table class=\"dataframe\">\n",
              "<caption>A data.frame: 6 × 4</caption>\n",
              "<thead>\n",
              "\t<tr><th scope=col>patient_id</th><th scope=col>weight</th><th scope=col>height</th><th scope=col>bmi</th></tr>\n",
              "\t<tr><th scope=col>&lt;dbl&gt;</th><th scope=col>&lt;dbl&gt;</th><th scope=col>&lt;dbl&gt;</th><th scope=col>&lt;dbl&gt;</th></tr>\n",
              "</thead>\n",
              "<tbody>\n",
              "\t<tr><td>1</td><td>62</td><td>1.88</td><td>17.54187</td></tr>\n",
              "\t<tr><td>2</td><td>76</td><td>1.79</td><td>23.71961</td></tr>\n",
              "\t<tr><td>3</td><td>73</td><td>1.60</td><td>28.51562</td></tr>\n",
              "\t<tr><td>4</td><td>69</td><td>1.68</td><td>24.44728</td></tr>\n",
              "\t<tr><td>5</td><td>62</td><td>1.80</td><td>19.13580</td></tr>\n",
              "\t<tr><td>6</td><td>72</td><td>1.71</td><td>24.62296</td></tr>\n",
              "</tbody>\n",
              "</table>\n"
            ],
            "text/markdown": "\nA data.frame: 6 × 4\n\n| patient_id &lt;dbl&gt; | weight &lt;dbl&gt; | height &lt;dbl&gt; | bmi &lt;dbl&gt; |\n|---|---|---|---|\n| 1 | 62 | 1.88 | 17.54187 |\n| 2 | 76 | 1.79 | 23.71961 |\n| 3 | 73 | 1.60 | 28.51562 |\n| 4 | 69 | 1.68 | 24.44728 |\n| 5 | 62 | 1.80 | 19.13580 |\n| 6 | 72 | 1.71 | 24.62296 |\n\n",
            "text/latex": "A data.frame: 6 × 4\n\\begin{tabular}{llll}\n patient\\_id & weight & height & bmi\\\\\n <dbl> & <dbl> & <dbl> & <dbl>\\\\\n\\hline\n\t 1 & 62 & 1.88 & 17.54187\\\\\n\t 2 & 76 & 1.79 & 23.71961\\\\\n\t 3 & 73 & 1.60 & 28.51562\\\\\n\t 4 & 69 & 1.68 & 24.44728\\\\\n\t 5 & 62 & 1.80 & 19.13580\\\\\n\t 6 & 72 & 1.71 & 24.62296\\\\\n\\end{tabular}\n",
            "text/plain": [
              "  patient_id weight height bmi     \n",
              "1 1          62     1.88   17.54187\n",
              "2 2          76     1.79   23.71961\n",
              "3 3          73     1.60   28.51562\n",
              "4 4          69     1.68   24.44728\n",
              "5 5          62     1.80   19.13580\n",
              "6 6          72     1.71   24.62296"
            ]
          },
          "metadata": {}
        }
      ]
    },
    {
      "cell_type": "code",
      "source": [
        "install.packages(\"ggplot2\")"
      ],
      "metadata": {
        "colab": {
          "base_uri": "https://localhost:8080/"
        },
        "id": "H9y38eUgf8Pm",
        "outputId": "755eb755-7bb2-490b-d800-0adf2b442842"
      },
      "execution_count": 19,
      "outputs": [
        {
          "output_type": "stream",
          "name": "stderr",
          "text": [
            "Installing package into ‘/usr/local/lib/R/site-library’\n",
            "(as ‘lib’ is unspecified)\n",
            "\n"
          ]
        }
      ]
    },
    {
      "cell_type": "code",
      "source": [
        "library(ggplot2)\n",
        "#Plot a graph using ggplot2.\n",
        "ggplot(df, aes(x = weight, y = height)) + geom_point()"
      ],
      "metadata": {
        "colab": {
          "base_uri": "https://localhost:8080/",
          "height": 437
        },
        "id": "4vrDc7sVgA_1",
        "outputId": "486c91a2-87a7-4ae7-beef-220c596638de"
      },
      "execution_count": 20,
      "outputs": [
        {
          "output_type": "display_data",
          "data": {
            "text/plain": [
              "plot without title"
            ],
            "image/png": "[encoded data removed]"
          },
          "metadata": {
            "image/png": {
              "width": 420,
              "height": 420
            }
          }
        }
      ]
    },
    {
      "cell_type": "code",
      "source": [
        "#Make dot plots proportional to BMI.\n",
        "ggplot(df) + geom_point(aes(x = weight, y = height), size = df$bmi / 3)"
      ],
      "metadata": {
        "colab": {
          "base_uri": "https://localhost:8080/",
          "height": 437
        },
        "id": "vKVrSaLHg5OD",
        "outputId": "7636c5bb-1b01-46fb-8e24-e6d94fd78339"
      },
      "execution_count": 21,
      "outputs": [
        {
          "output_type": "display_data",
          "data": {
            "text/plain": [
              "plot without title"
            ],
            "image/png": "[encoded data removed]"
          },
          "metadata": {
            "image/png": {
              "width": 420,
              "height": 420
            }
          }
        }
      ]
    },
    {
      "cell_type": "code",
      "source": [
        "#For the next part of the practice, we will use a direct github link.\n",
        "data_path = \"https://raw.githubusercontent.com/edinhodiluviano/introducao-a-ciencia-de-dados/refs/heads/main/diabetes.csv\"\n",
        "df <- read.csv(data_path)\n",
        "#Print part of the table for quick view and confirmation of csv file.\n",
        "head(df)"
      ],
      "metadata": {
        "colab": {
          "base_uri": "https://localhost:8080/",
          "height": 286
        },
        "id": "ai6XHDaGhsqk",
        "outputId": "02e7a04a-ea8c-4338-a230-2af5efae58c6"
      },
      "execution_count": 23,
      "outputs": [
        {
          "output_type": "display_data",
          "data": {
            "text/html": [
              "<table class=\"dataframe\">\n",
              "<caption>A data.frame: 6 × 9</caption>\n",
              "<thead>\n",
              "\t<tr><th></th><th scope=col>Pregnancies</th><th scope=col>Glucose</th><th scope=col>BloodPressure</th><th scope=col>SkinThickness</th><th scope=col>Insulin</th><th scope=col>BMI</th><th scope=col>DiabetesPedigreeFunction</th><th scope=col>Age</th><th scope=col>Outcome</th></tr>\n",
              "\t<tr><th></th><th scope=col>&lt;int&gt;</th><th scope=col>&lt;int&gt;</th><th scope=col>&lt;int&gt;</th><th scope=col>&lt;int&gt;</th><th scope=col>&lt;int&gt;</th><th scope=col>&lt;dbl&gt;</th><th scope=col>&lt;dbl&gt;</th><th scope=col>&lt;int&gt;</th><th scope=col>&lt;int&gt;</th></tr>\n",
              "</thead>\n",
              "<tbody>\n",
              "\t<tr><th scope=row>1</th><td>6</td><td>148</td><td>72</td><td>35</td><td>  0</td><td>33.6</td><td>0.627</td><td>50</td><td>1</td></tr>\n",
              "\t<tr><th scope=row>2</th><td>1</td><td> 85</td><td>66</td><td>29</td><td>  0</td><td>26.6</td><td>0.351</td><td>31</td><td>0</td></tr>\n",
              "\t<tr><th scope=row>3</th><td>8</td><td>183</td><td>64</td><td> 0</td><td>  0</td><td>23.3</td><td>0.672</td><td>32</td><td>1</td></tr>\n",
              "\t<tr><th scope=row>4</th><td>1</td><td> 89</td><td>66</td><td>23</td><td> 94</td><td>28.1</td><td>0.167</td><td>21</td><td>0</td></tr>\n",
              "\t<tr><th scope=row>5</th><td>0</td><td>137</td><td>40</td><td>35</td><td>168</td><td>43.1</td><td>2.288</td><td>33</td><td>1</td></tr>\n",
              "\t<tr><th scope=row>6</th><td>5</td><td>116</td><td>74</td><td> 0</td><td>  0</td><td>25.6</td><td>0.201</td><td>30</td><td>0</td></tr>\n",
              "</tbody>\n",
              "</table>\n"
            ],
            "text/markdown": "\nA data.frame: 6 × 9\n\n| <!--/--> | Pregnancies &lt;int&gt; | Glucose &lt;int&gt; | BloodPressure &lt;int&gt; | SkinThickness &lt;int&gt; | Insulin &lt;int&gt; | BMI &lt;dbl&gt; | DiabetesPedigreeFunction &lt;dbl&gt; | Age &lt;int&gt; | Outcome &lt;int&gt; |\n|---|---|---|---|---|---|---|---|---|---|\n| 1 | 6 | 148 | 72 | 35 |   0 | 33.6 | 0.627 | 50 | 1 |\n| 2 | 1 |  85 | 66 | 29 |   0 | 26.6 | 0.351 | 31 | 0 |\n| 3 | 8 | 183 | 64 |  0 |   0 | 23.3 | 0.672 | 32 | 1 |\n| 4 | 1 |  89 | 66 | 23 |  94 | 28.1 | 0.167 | 21 | 0 |\n| 5 | 0 | 137 | 40 | 35 | 168 | 43.1 | 2.288 | 33 | 1 |\n| 6 | 5 | 116 | 74 |  0 |   0 | 25.6 | 0.201 | 30 | 0 |\n\n",
            "text/latex": "A data.frame: 6 × 9\n\\begin{tabular}{r|lllllllll}\n  & Pregnancies & Glucose & BloodPressure & SkinThickness & Insulin & BMI & DiabetesPedigreeFunction & Age & Outcome\\\\\n  & <int> & <int> & <int> & <int> & <int> & <dbl> & <dbl> & <int> & <int>\\\\\n\\hline\n\t1 & 6 & 148 & 72 & 35 &   0 & 33.6 & 0.627 & 50 & 1\\\\\n\t2 & 1 &  85 & 66 & 29 &   0 & 26.6 & 0.351 & 31 & 0\\\\\n\t3 & 8 & 183 & 64 &  0 &   0 & 23.3 & 0.672 & 32 & 1\\\\\n\t4 & 1 &  89 & 66 & 23 &  94 & 28.1 & 0.167 & 21 & 0\\\\\n\t5 & 0 & 137 & 40 & 35 & 168 & 43.1 & 2.288 & 33 & 1\\\\\n\t6 & 5 & 116 & 74 &  0 &   0 & 25.6 & 0.201 & 30 & 0\\\\\n\\end{tabular}\n",
            "text/plain": [
              "  Pregnancies Glucose BloodPressure SkinThickness Insulin BMI \n",
              "1 6           148     72            35              0     33.6\n",
              "2 1            85     66            29              0     26.6\n",
              "3 8           183     64             0              0     23.3\n",
              "4 1            89     66            23             94     28.1\n",
              "5 0           137     40            35            168     43.1\n",
              "6 5           116     74             0              0     25.6\n",
              "  DiabetesPedigreeFunction Age Outcome\n",
              "1 0.627                    50  1      \n",
              "2 0.351                    31  0      \n",
              "3 0.672                    32  1      \n",
              "4 0.167                    21  0      \n",
              "5 2.288                    33  1      \n",
              "6 0.201                    30  0      "
            ]
          },
          "metadata": {}
        }
      ]
    },
    {
      "cell_type": "code",
      "source": [
        "#Print the first six results for patients that are 55 years old or more and have a positive diabetes outcome.\n",
        "head(df[df$Age >= 55, ])"
      ],
      "metadata": {
        "colab": {
          "base_uri": "https://localhost:8080/",
          "height": 286
        },
        "id": "tlYy_UY0iYh7",
        "outputId": "f7685f70-6577-4c66-cb7b-05a7686ae39a"
      },
      "execution_count": 26,
      "outputs": [
        {
          "output_type": "display_data",
          "data": {
            "text/html": [
              "<table class=\"dataframe\">\n",
              "<caption>A data.frame: 6 × 9</caption>\n",
              "<thead>\n",
              "\t<tr><th></th><th scope=col>Pregnancies</th><th scope=col>Glucose</th><th scope=col>BloodPressure</th><th scope=col>SkinThickness</th><th scope=col>Insulin</th><th scope=col>BMI</th><th scope=col>DiabetesPedigreeFunction</th><th scope=col>Age</th><th scope=col>Outcome</th></tr>\n",
              "\t<tr><th></th><th scope=col>&lt;int&gt;</th><th scope=col>&lt;int&gt;</th><th scope=col>&lt;int&gt;</th><th scope=col>&lt;int&gt;</th><th scope=col>&lt;int&gt;</th><th scope=col>&lt;dbl&gt;</th><th scope=col>&lt;dbl&gt;</th><th scope=col>&lt;int&gt;</th><th scope=col>&lt;int&gt;</th></tr>\n",
              "</thead>\n",
              "<tbody>\n",
              "\t<tr><th scope=row>13</th><td>10</td><td>139</td><td>80</td><td> 0</td><td>  0</td><td>27.1</td><td>1.441</td><td>57</td><td>0</td></tr>\n",
              "\t<tr><th scope=row>14</th><td> 1</td><td>189</td><td>60</td><td>23</td><td>846</td><td>30.1</td><td>0.398</td><td>59</td><td>1</td></tr>\n",
              "\t<tr><th scope=row>29</th><td>13</td><td>145</td><td>82</td><td>19</td><td>110</td><td>22.2</td><td>0.245</td><td>57</td><td>0</td></tr>\n",
              "\t<tr><th scope=row>31</th><td> 5</td><td>109</td><td>75</td><td>26</td><td>  0</td><td>36.0</td><td>0.546</td><td>60</td><td>0</td></tr>\n",
              "\t<tr><th scope=row>40</th><td> 4</td><td>111</td><td>72</td><td>47</td><td>207</td><td>37.1</td><td>1.390</td><td>56</td><td>1</td></tr>\n",
              "\t<tr><th scope=row>54</th><td> 8</td><td>176</td><td>90</td><td>34</td><td>300</td><td>33.7</td><td>0.467</td><td>58</td><td>1</td></tr>\n",
              "</tbody>\n",
              "</table>\n"
            ],
            "text/markdown": "\nA data.frame: 6 × 9\n\n| <!--/--> | Pregnancies &lt;int&gt; | Glucose &lt;int&gt; | BloodPressure &lt;int&gt; | SkinThickness &lt;int&gt; | Insulin &lt;int&gt; | BMI &lt;dbl&gt; | DiabetesPedigreeFunction &lt;dbl&gt; | Age &lt;int&gt; | Outcome &lt;int&gt; |\n|---|---|---|---|---|---|---|---|---|---|\n| 13 | 10 | 139 | 80 |  0 |   0 | 27.1 | 1.441 | 57 | 0 |\n| 14 |  1 | 189 | 60 | 23 | 846 | 30.1 | 0.398 | 59 | 1 |\n| 29 | 13 | 145 | 82 | 19 | 110 | 22.2 | 0.245 | 57 | 0 |\n| 31 |  5 | 109 | 75 | 26 |   0 | 36.0 | 0.546 | 60 | 0 |\n| 40 |  4 | 111 | 72 | 47 | 207 | 37.1 | 1.390 | 56 | 1 |\n| 54 |  8 | 176 | 90 | 34 | 300 | 33.7 | 0.467 | 58 | 1 |\n\n",
            "text/latex": "A data.frame: 6 × 9\n\\begin{tabular}{r|lllllllll}\n  & Pregnancies & Glucose & BloodPressure & SkinThickness & Insulin & BMI & DiabetesPedigreeFunction & Age & Outcome\\\\\n  & <int> & <int> & <int> & <int> & <int> & <dbl> & <dbl> & <int> & <int>\\\\\n\\hline\n\t13 & 10 & 139 & 80 &  0 &   0 & 27.1 & 1.441 & 57 & 0\\\\\n\t14 &  1 & 189 & 60 & 23 & 846 & 30.1 & 0.398 & 59 & 1\\\\\n\t29 & 13 & 145 & 82 & 19 & 110 & 22.2 & 0.245 & 57 & 0\\\\\n\t31 &  5 & 109 & 75 & 26 &   0 & 36.0 & 0.546 & 60 & 0\\\\\n\t40 &  4 & 111 & 72 & 47 & 207 & 37.1 & 1.390 & 56 & 1\\\\\n\t54 &  8 & 176 & 90 & 34 & 300 & 33.7 & 0.467 & 58 & 1\\\\\n\\end{tabular}\n",
            "text/plain": [
              "   Pregnancies Glucose BloodPressure SkinThickness Insulin BMI \n",
              "13 10          139     80             0              0     27.1\n",
              "14  1          189     60            23            846     30.1\n",
              "29 13          145     82            19            110     22.2\n",
              "31  5          109     75            26              0     36.0\n",
              "40  4          111     72            47            207     37.1\n",
              "54  8          176     90            34            300     33.7\n",
              "   DiabetesPedigreeFunction Age Outcome\n",
              "13 1.441                    57  0      \n",
              "14 0.398                    59  1      \n",
              "29 0.245                    57  0      \n",
              "31 0.546                    60  0      \n",
              "40 1.390                    56  1      \n",
              "54 0.467                    58  1      "
            ]
          },
          "metadata": {}
        }
      ]
    },
    {
      "cell_type": "code",
      "source": [
        "#Plot a graph that compares BMI and Blood pressure.\n",
        "ggplot(df, aes(x = BMI, y = BloodPressure)) + geom_point(alpha = 0.5)"
      ],
      "metadata": {
        "colab": {
          "base_uri": "https://localhost:8080/",
          "height": 437
        },
        "id": "FqGTzWvwjE6s",
        "outputId": "2dab15d9-4432-495f-cac8-9ecdd451fe99"
      },
      "execution_count": 30,
      "outputs": [
        {
          "output_type": "display_data",
          "data": {
            "text/plain": [
              "plot without title"
            ],
            "image/png": "[encoded data removed]"
          },
          "metadata": {
            "image/png": {
              "width": 420,
              "height": 420
            }
          }
        }
      ]
    }
  ]
}